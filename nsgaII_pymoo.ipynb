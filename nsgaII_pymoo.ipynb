{
 "cells": [
  {
   "cell_type": "code",
   "execution_count": 1,
   "metadata": {},
   "outputs": [],
   "source": [
    "import numpy as np\n",
    "import random\n",
    "from gensim.models import Word2Vec\n",
    "import gensim.downloader\n",
    "from scipy.stats import spearmanr\n",
    "from gensim.models import KeyedVectors\n",
    "import copy\n",
    "from pymoo.algorithms.moo.nsga2 import NSGA2\n",
    "from pymoo.termination import get_termination\n",
    "from pymoo.core.problem import Problem\n",
    "from pymoo.optimize import minimize\n",
    "\n",
    "# Configurações\n",
    "POP_SIZE = 50\n",
    "GEN_MAX = 30\n",
    "MUT_RATE = 0.2\n",
    "CROSS_RATE = 0.6\n",
    "VECTOR_SIZE = 50"
   ]
  },
  {
   "cell_type": "code",
   "execution_count": 2,
   "metadata": {},
   "outputs": [],
   "source": [
    "_glove_model = gensim.downloader.load('glove-wiki-gigaword-50')\n",
    "_glove_model_changed = gensim.downloader.load('glove-wiki-gigaword-50')"
   ]
  },
  {
   "cell_type": "code",
   "execution_count": 3,
   "metadata": {},
   "outputs": [],
   "source": [
    "#weat 6\n",
    "female_attributes = ['female', 'woman', 'girl', 'sister', 'she', 'her', 'hers', 'daughter']\n",
    "male_attributes = ['male', 'man', 'boy', 'brother', 'he', 'him', 'his', 'son']\n",
    "\n",
    "careers = ['math', 'algebra', 'geometry', 'calculus', 'equations', 'computation', 'numbers', 'addition', 'poetry', 'art', 'dance', 'literature', 'novel', 'symphony', 'drama', 'sculpture']\n",
    "\n",
    "def load_dataset(filepath):\n",
    "    word_pairs = []\n",
    "    human_scores = []\n",
    "    with open(filepath, 'r') as file:\n",
    "        for line in file:\n",
    "            parts = line.strip().split()\n",
    "            if len(parts) == 3:\n",
    "                word1, word2, score = parts\n",
    "                score = float(score)\n",
    "                word_pairs.append((word1.split('-')[0], word2.split('-')[0]))\n",
    "                human_scores.append(score)\n",
    "    return word_pairs, human_scores\n",
    "\n",
    "filepath = 'MEN_dataset_lemma_form.dev'\n",
    "word_pairs, human_scores = load_dataset(filepath)\n",
    "\n",
    "men_words = []\n",
    "for word1, word2 in word_pairs:\n",
    "    men_words.append(word1)\n",
    "    men_words.append(word2)\n",
    "\n",
    "all_words = list(set(female_attributes + male_attributes + careers + men_words))\n",
    "\n",
    "word_vectors = {word: _glove_model[word] for word in all_words if word in _glove_model}\n",
    "vectors = np.array([word_vectors[word] for word in word_vectors.keys()])\n",
    "words = list(word_vectors.keys())\n",
    "reduced_glove = Word2Vec(vector_size=50, min_count=1)\n",
    "reduced_glove.build_vocab([words])\n",
    "reduced_glove.wv.vectors = vectors\n",
    "reduced_glove.wv.index_to_key = words\n",
    "reduced_glove.wv.key_to_index = {word: idx for idx, word in enumerate(words)}\n"
   ]
  },
  {
   "cell_type": "code",
   "execution_count": 4,
   "metadata": {},
   "outputs": [],
   "source": [
    "def noise_vec(_size=VECTOR_SIZE):\n",
    "    return np.random.uniform(-2, 2, size=_size)\n",
    "\n",
    "def init_population():\n",
    "    population = np.ones((POP_SIZE - 1, VECTOR_SIZE)) + np.array([noise_vec() for _ in range(POP_SIZE - 1)])\n",
    "    population = np.vstack([population, np.ones(VECTOR_SIZE)])\n",
    "    np.random.shuffle(population)\n",
    "    return population\n",
    "\n",
    "def cosine_similarity(v1, v2):\n",
    "    dot_product = np.dot(v1, v2)\n",
    "    norm_v1 = np.linalg.norm(v1)\n",
    "    norm_v2 = np.linalg.norm(v2)\n",
    "    if norm_v1 == 0 or norm_v2 == 0:\n",
    "        return 0.0\n",
    "    return dot_product / (norm_v1 * norm_v2)\n",
    "\n",
    "def wordembedding_similarity(word_pairs, model):\n",
    "    embedding_similarities = []\n",
    "    for word1, word2 in word_pairs:\n",
    "        if word1 in model and word2 in model:\n",
    "            v1 = model[word1]\n",
    "            v2 = model[word2]\n",
    "            similarity = cosine_similarity(v1, v2)\n",
    "        else:\n",
    "            similarity = 0.0\n",
    "        embedding_similarities.append(similarity)\n",
    "    return embedding_similarities\n",
    "\n",
    "def calculate_costs(s, word_pairs, human_scores):\n",
    "    glove_model_modified = copy.copy(reduced_glove.wv)\n",
    "    \n",
    "    for _word in all_words:\n",
    "        glove_model_modified[_word] = np.multiply(glove_model_modified[_word], s)\n",
    "        \n",
    "    differences = [\n",
    "        abs(\n",
    "            sum(glove_model_modified.similarity(career, attr) for attr in female_attributes) / len(female_attributes) - \n",
    "            sum(glove_model_modified.similarity(career, attr) for attr in male_attributes) / len(male_attributes)\n",
    "        )\n",
    "        for career in careers\n",
    "    ]\n",
    "    \n",
    "    bias = sum(differences)\n",
    "\n",
    "    embedding_similarities = wordembedding_similarity(word_pairs, glove_model_modified)\n",
    "    spearman_corr, _ = spearmanr(human_scores, embedding_similarities)\n",
    "    cost_spearman = 1 - spearman_corr\n",
    "    return [bias,cost_spearman]"
   ]
  },
  {
   "cell_type": "code",
   "execution_count": 5,
   "metadata": {},
   "outputs": [
    {
     "name": "stdout",
     "output_type": "stream",
     "text": [
      "==========================================================\n",
      "n_gen  |  n_eval  | n_nds  |      eps      |   indicator  \n",
      "==========================================================\n",
      "     1 |       50 |      5 |             - |             -\n",
      "     2 |      100 |      7 |  0.1435840200 |         ideal\n",
      "     3 |      150 |      5 |  0.0115132226 |         ideal\n",
      "     4 |      200 |      6 |  0.1355625966 |         ideal\n",
      "     5 |      250 |      7 |  0.0669215770 |         ideal\n",
      "     6 |      300 |      9 |  0.0431355222 |             f\n",
      "     7 |      350 |      8 |  0.0156309893 |         ideal\n",
      "     8 |      400 |     10 |  0.0585674393 |         ideal\n",
      "     9 |      450 |     15 |  0.0159247960 |         ideal\n",
      "    10 |      500 |     15 |  0.0074203566 |         ideal\n",
      "    11 |      550 |     21 |  0.0547224840 |         ideal\n",
      "    12 |      600 |     17 |  0.0340293240 |         ideal\n",
      "    13 |      650 |     19 |  0.0290345897 |             f\n",
      "    14 |      700 |     16 |  0.0062194959 |         ideal\n",
      "    15 |      750 |     22 |  0.5231012146 |         nadir\n",
      "    16 |      800 |     22 |  0.0849742809 |         ideal\n",
      "    17 |      850 |     18 |  0.0168508598 |         ideal\n",
      "    18 |      900 |     24 |  0.0401175150 |         ideal\n",
      "    19 |      950 |     21 |  0.0215066949 |             f\n",
      "    20 |     1000 |     16 |  0.0218003178 |             f\n",
      "    21 |     1050 |     17 |  0.0158556701 |             f\n",
      "    22 |     1100 |     20 |  0.0232625497 |         ideal\n",
      "    23 |     1150 |     25 |  0.0064144204 |             f\n",
      "    24 |     1200 |     25 |  0.0056590610 |         ideal\n",
      "    25 |     1250 |     27 |  0.0080202578 |         ideal\n",
      "    26 |     1300 |     31 |  0.0127961879 |         ideal\n",
      "    27 |     1350 |     27 |  0.0076956711 |             f\n",
      "    28 |     1400 |     27 |  0.0049676560 |             f\n",
      "    29 |     1450 |     22 |  0.0066357463 |         ideal\n",
      "    30 |     1500 |     21 |  0.0182344030 |             f\n",
      "Soluções de Pareto:\n",
      "Bias: 0.1904, Spearman Cost: 0.3459\n",
      "Bias: 0.2105, Spearman Cost: 0.3294\n",
      "Bias: 0.1973, Spearman Cost: 0.3426\n",
      "Bias: 0.1889, Spearman Cost: 0.3463\n",
      "Bias: 0.2049, Spearman Cost: 0.3296\n",
      "Bias: 0.2643, Spearman Cost: 0.3197\n",
      "Bias: 0.3514, Spearman Cost: 0.3001\n",
      "Bias: 0.2638, Spearman Cost: 0.3240\n",
      "Bias: 0.4566, Spearman Cost: 0.2887\n",
      "Bias: 0.2150, Spearman Cost: 0.3283\n",
      "Bias: 0.3273, Spearman Cost: 0.3038\n",
      "Bias: 0.2239, Spearman Cost: 0.3261\n",
      "Bias: 0.5521, Spearman Cost: 0.2871\n",
      "Bias: 0.3657, Spearman Cost: 0.2909\n",
      "Bias: 0.5403, Spearman Cost: 0.2875\n",
      "Bias: 0.3339, Spearman Cost: 0.3009\n",
      "Bias: 0.3538, Spearman Cost: 0.2934\n",
      "Bias: 0.3509, Spearman Cost: 0.3001\n",
      "Bias: 0.2288, Spearman Cost: 0.3248\n",
      "Bias: 0.2734, Spearman Cost: 0.3089\n",
      "Bias: 0.2749, Spearman Cost: 0.3043\n"
     ]
    }
   ],
   "source": [
    "class BiasSpearmanProblem(Problem):\n",
    "\n",
    "    def __init__(self, word_pairs, human_scores):\n",
    "        super().__init__(n_var=VECTOR_SIZE, n_obj=2, n_constr=0, xl=-2, xu=2)\n",
    "        self.word_pairs = word_pairs\n",
    "        self.human_scores = human_scores\n",
    "\n",
    "    def _evaluate(self, s, out, *args, **kwargs):\n",
    "        bias_costs = []\n",
    "        spearman_costs = []\n",
    "        for individual in s:\n",
    "            bias, cost_spearman = calculate_costs(individual, self.word_pairs, self.human_scores)\n",
    "            bias_costs.append(bias)\n",
    "            spearman_costs.append(cost_spearman)\n",
    "        out[\"F\"] = np.column_stack([bias_costs, spearman_costs])\n",
    "\n",
    "problem = BiasSpearmanProblem(word_pairs, human_scores)\n",
    "\n",
    "algorithm = NSGA2(pop_size=POP_SIZE)\n",
    "\n",
    "termination = get_termination(\"n_gen\", GEN_MAX)\n",
    "\n",
    "res = minimize(problem,\n",
    "               algorithm,\n",
    "               termination,\n",
    "               seed=1,\n",
    "               verbose=True)\n",
    "\n",
    "print(\"Soluções de Pareto:\")\n",
    "for sol in res.F:\n",
    "    print(f\"Bias: {sol[0]:.4f}, Spearman Cost: {sol[1]:.4f}\")"
   ]
  },
  {
   "cell_type": "code",
   "execution_count": 6,
   "metadata": {},
   "outputs": [
    {
     "name": "stdout",
     "output_type": "stream",
     "text": [
      "[[-1.933879   -1.66656849 -0.30611564 ...  0.11471701  1.58142298\n",
      "   1.29234857]\n",
      " [-1.92450237  1.26804027  0.13822508 ...  0.09056577  1.92967021\n",
      "  -0.37086879]\n",
      " [-1.95937745 -1.66656849 -0.30611564 ...  0.18811579  1.58142298\n",
      "   1.2934551 ]\n",
      " ...\n",
      " [-1.96222162  1.30113187 -0.27185024 ...  0.09056577  1.9388675\n",
      "   0.11288228]\n",
      " [-1.98476404  1.35481103 -0.30448112 ...  0.09142602  1.93923353\n",
      "   0.28133026]\n",
      " [-1.98102507  1.36239988 -0.3737486  ...  0.05564598  1.93923353\n",
      "   0.28133026]]\n"
     ]
    }
   ],
   "source": [
    "print(res.X)"
   ]
  },
  {
   "cell_type": "code",
   "execution_count": 7,
   "metadata": {},
   "outputs": [
    {
     "data": {
      "text/plain": [
       "<pymoo.visualization.scatter.Scatter at 0x2a5772ec3d0>"
      ]
     },
     "execution_count": 7,
     "metadata": {},
     "output_type": "execute_result"
    },
    {
     "data": {
      "image/png": "[encoded data removed]",
      "text/plain": [
       "<Figure size 800x600 with 1 Axes>"
      ]
     },
     "metadata": {},
     "output_type": "display_data"
    }
   ],
   "source": [
    "from pymoo.algorithms.moo.nsga2 import NSGA2\n",
    "from pymoo.problems import get_problem\n",
    "from pymoo.optimize import minimize\n",
    "from pymoo.visualization.scatter import Scatter\n",
    "\n",
    "plot = Scatter()\n",
    "plot.add(problem.pareto_front(), plot_type=\"line\", color=\"black\", alpha=0.7)\n",
    "plot.add(res.F, facecolor=\"none\", edgecolor=\"red\")\n",
    "plot.show()"
   ]
  }
 ],
 "metadata": {
  "kernelspec": {
   "display_name": "gender_bias",
   "language": "python",
   "name": "python3"
  },
  "language_info": {
   "codemirror_mode": {
    "name": "ipython",
    "version": 3
   },
   "file_extension": ".py",
   "mimetype": "text/x-python",
   "name": "python",
   "nbconvert_exporter": "python",
   "pygments_lexer": "ipython3",
   "version": "3.10.0"
  }
 },
 "nbformat": 4,
 "nbformat_minor": 2
}
