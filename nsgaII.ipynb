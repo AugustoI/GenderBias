{
 "cells": [
  {
   "cell_type": "code",
   "execution_count": 1,
   "metadata": {},
   "outputs": [],
   "source": [
    "import gensim.downloader\n",
    "from gensim.models import Word2Vec\n",
    "import copy\n",
    "import numpy as np\n",
    "import random\n",
    "from scipy.stats import spearmanr\n",
    "\n",
    "_glove_model = gensim.downloader.load('glove-wiki-gigaword-50')"
   ]
  },
  {
   "cell_type": "code",
   "execution_count": 39,
   "metadata": {},
   "outputs": [],
   "source": [
    "careers = ['technician', 'accountant', 'supervisor', 'engineer', 'worker', 'educator', 'clerk', 'counselor', 'inspector', 'mechanic', 'manager', 'therapist', 'administrator', 'salesperson', 'receptionist', 'librarian', 'advisor', 'pharmacist', 'janitor', 'psychologist', 'physician', 'carpenter', 'nurse', 'investigator', 'bartender', 'specialist', 'electrician', 'officer', 'pathologist', 'teacher', 'lawyer', 'planner', 'practitioner', 'plumber', 'instructor', 'surgeon', 'veterinarian', 'paramedic', 'examiner', 'chemist', 'machinist', 'appraiser', 'nutritionist', 'architect', 'hairdresser', 'baker', 'programmer', 'paralegal', 'hygienist', 'scientist']\n",
    "female_attributes = ['female', 'woman', 'girl', 'sister', 'she', 'her', 'hers', 'daughter']\n",
    "male_attributes = ['male', 'man', 'boy', 'brother', 'he', 'him', 'his', 'son']\n",
    "\n",
    "# Função para carregar o dataset de pares de palavras\n",
    "def load_dataset(filepath):\n",
    "    word_pairs = []\n",
    "    human_scores = []\n",
    "    with open(filepath, 'r') as file:\n",
    "        for line in file:\n",
    "            parts = line.strip().split()\n",
    "            if len(parts) == 3:\n",
    "                word1, word2, score = parts\n",
    "                score = float(score)\n",
    "                word_pairs.append((word1.split('-')[0], word2.split('-')[0]))\n",
    "                human_scores.append(score)\n",
    "    return word_pairs, human_scores\n",
    "\n",
    "filepath = 'MEN_dataset_lemma_form.dev'\n",
    "word_pairs, human_scores = load_dataset(filepath)\n",
    "\n",
    "men_words = []\n",
    "for word1, word2 in word_pairs:\n",
    "    men_words.append(word1)\n",
    "    men_words.append(word2)\n",
    "\n",
    "all_words = list(set(female_attributes + male_attributes + careers + men_words))\n",
    "\n",
    "# Reduzir o modelo GloVe para o subconjunto relevante\n",
    "word_vectors = {word: _glove_model[word] for word in all_words if word in _glove_model}\n",
    "vectors = np.array([word_vectors[word] for word in word_vectors.keys()])\n",
    "words = list(word_vectors.keys())\n",
    "reduced_glove = Word2Vec(vector_size=50, min_count=1)\n",
    "reduced_glove.build_vocab([words])\n",
    "reduced_glove.wv.vectors = vectors\n",
    "reduced_glove.wv.index_to_key = words\n",
    "reduced_glove.wv.key_to_index = {word: idx for idx, word in enumerate(words)}\n",
    "\n",
    "POP_SIZE = 50\n",
    "GEN_MAX = 3\n",
    "MUT_RATE = 0.2\n",
    "CROSS_RATE = 0.6\n",
    "\n",
    "def noise_vec(_size=50):\n",
    "    return np.random.uniform(-2, 2, size=_size)\n",
    "\n",
    "def init_population():\n",
    "    population = np.ones((POP_SIZE - 1, 50)) + np.array([noise_vec() for _ in range(POP_SIZE - 1)])\n",
    "    population = np.vstack([population, np.ones(50)])\n",
    "    np.random.shuffle(population)\n",
    "    return population\n",
    "\n",
    "def crossover(parent1, parent2):\n",
    "    point1, point2 = sorted(random.sample(range(len(parent1)), 2))\n",
    "    child1 = np.concatenate((parent1[:point1], parent2[point1:point2], parent1[point2:]))\n",
    "    child2 = np.concatenate((parent2[:point1], parent1[point1:point2], parent2[point2:]))\n",
    "    return child1, child2\n",
    "\n",
    "def mutate(child):\n",
    "    if random.random() < MUT_RATE:\n",
    "        child += noise_vec()\n",
    "    return child\n",
    "\n",
    "#modificar para seleção por dominância\n",
    "def selection(population, costs, _k=2):\n",
    "    return random.choices(population, k=_k)"
   ]
  },
  {
   "cell_type": "code",
   "execution_count": 40,
   "metadata": {},
   "outputs": [],
   "source": [
    "def wordembedding_similarity(word_pairs, model):\n",
    "    embedding_similarities = []\n",
    "    for word1, word2 in word_pairs:\n",
    "        if word1 in model and word2 in model:\n",
    "            similarity = model.similarity(word1, word2)\n",
    "        else:\n",
    "            similarity = 0.0\n",
    "        embedding_similarities.append(similarity)\n",
    "    return embedding_similarities\n",
    "\n",
    "def calculate_costs(s, word_pairs, human_scores):\n",
    "    glove_model_modified = copy.copy(reduced_glove.wv)\n",
    "    \n",
    "    for _word in all_words:\n",
    "        glove_model_modified[_word] = np.multiply(glove_model_modified[_word], s)\n",
    "        \n",
    "    differences = [\n",
    "        abs(\n",
    "            sum(glove_model_modified.similarity(career, attr) for attr in female_attributes) / len(female_attributes) - \n",
    "            sum(glove_model_modified.similarity(career, attr) for attr in male_attributes) / len(male_attributes)\n",
    "        )\n",
    "        for career in careers\n",
    "    ]\n",
    "    bias = sum(differences)\n",
    "    \n",
    "    embedding_similarities = wordembedding_similarity(word_pairs, glove_model_modified)\n",
    "    spearman_corr, _ = spearmanr(human_scores, embedding_similarities)\n",
    "    cost_spearman = 1 - spearman_corr\n",
    "    \n",
    "    return bias, cost_spearman"
   ]
  },
  {
   "cell_type": "code",
   "execution_count": 41,
   "metadata": {},
   "outputs": [],
   "source": [
    "def fast_non_dominated_sort(population, objectives):\n",
    "    ranks = np.zeros(len(population))\n",
    "    domination_count = np.zeros(len(population))\n",
    "    domination_set = {i: [] for i in range(len(population))}\n",
    "    fronts = [[]]\n",
    "    \n",
    "    for p in range(len(population)):\n",
    "        for q in range(len(population)):\n",
    "            if all(obj_p <= obj_q for obj_p, obj_q in zip(objectives[p], objectives[q])) and any(obj_p < obj_q for obj_p, obj_q in zip(objectives[p], objectives[q])):\n",
    "                domination_set[p].append(q)\n",
    "            elif all(obj_q <= obj_p for obj_q, obj_p in zip(objectives[q], objectives[p])) and any(obj_q < obj_p for obj_q, obj_p in zip(objectives[q], objectives[p])):\n",
    "                domination_count[p] += 1\n",
    "\n",
    "        if domination_count[p] == 0:\n",
    "            ranks[p] = 1\n",
    "            fronts[0].append(p)\n",
    "    \n",
    "    current_front = 0\n",
    "    while len(fronts[current_front]) > 0:\n",
    "        next_front = []\n",
    "        for p in fronts[current_front]:\n",
    "            for q in domination_set[p]:\n",
    "                domination_count[q] -= 1\n",
    "                if domination_count[q] == 0:\n",
    "                    ranks[q] = current_front + 2\n",
    "                    next_front.append(q)\n",
    "        current_front += 1\n",
    "        fronts.append(next_front)\n",
    "    \n",
    "    return ranks, fronts[:-1]\n"
   ]
  },
  {
   "cell_type": "code",
   "execution_count": 42,
   "metadata": {},
   "outputs": [],
   "source": [
    "def calculate_crowding_distance(front, objectives):\n",
    "    num_objectives = len(objectives[0])\n",
    "    distances = np.zeros(len(front))\n",
    "    \n",
    "    for m in range(num_objectives):\n",
    "        sorted_indices = np.argsort([objectives[i][m] for i in front])\n",
    "        distances[sorted_indices[0]] = distances[sorted_indices[-1]] = float('inf')\n",
    "        for i in range(1, len(front) - 1):\n",
    "            distances[sorted_indices[i]] += (objectives[front[sorted_indices[i+1]]][m] - objectives[front[sorted_indices[i-1]]][m]) / (max(objectives[front][m]) - min(objectives[front][m]))\n",
    "    \n",
    "    return distances\n",
    "\n",
    "def selection_nsga_ii(population, objectives):\n",
    "    ranks, fronts = fast_non_dominated_sort(population, objectives)\n",
    "    new_population = []\n",
    "    \n",
    "    for front in fronts:\n",
    "        if len(new_population) + len(front) > POP_SIZE:\n",
    "            distances = calculate_crowding_distance(front, objectives)\n",
    "            sorted_front = [front[i] for i in np.argsort(distances)[::-1]]\n",
    "            new_population.extend(sorted_front[:POP_SIZE - len(new_population)])\n",
    "            break\n",
    "        else:\n",
    "            new_population.extend(front)\n",
    "    \n",
    "    return [population[i] for i in new_population]"
   ]
  },
  {
   "cell_type": "code",
   "execution_count": 36,
   "metadata": {},
   "outputs": [],
   "source": [
    "population = init_population()\n",
    "objectives = [calculate_costs(ind, word_pairs, human_scores) for ind in population]"
   ]
  },
  {
   "cell_type": "code",
   "execution_count": 38,
   "metadata": {},
   "outputs": [
    {
     "ename": "TypeError",
     "evalue": "can only concatenate tuple (not \"int\") to tuple",
     "output_type": "error",
     "traceback": [
      "\u001b[1;31m---------------------------------------------------------------------------\u001b[0m",
      "\u001b[1;31mTypeError\u001b[0m                                 Traceback (most recent call last)",
      "Cell \u001b[1;32mIn[38], line 1\u001b[0m\n\u001b[1;32m----> 1\u001b[0m \u001b[43mselection\u001b[49m\u001b[43m(\u001b[49m\u001b[43mpopulation\u001b[49m\u001b[43m,\u001b[49m\u001b[43m \u001b[49m\u001b[43mobjectives\u001b[49m\u001b[43m)\u001b[49m\n",
      "Cell \u001b[1;32mIn[32], line 65\u001b[0m, in \u001b[0;36mselection\u001b[1;34m(population, costs, _k)\u001b[0m\n\u001b[0;32m     64\u001b[0m \u001b[38;5;28;01mdef\u001b[39;00m \u001b[38;5;21mselection\u001b[39m(population, costs, _k\u001b[38;5;241m=\u001b[39m\u001b[38;5;241m2\u001b[39m):\n\u001b[1;32m---> 65\u001b[0m     \u001b[38;5;28;01mreturn\u001b[39;00m random\u001b[38;5;241m.\u001b[39mchoices(population, weights\u001b[38;5;241m=\u001b[39m[\u001b[38;5;241m1\u001b[39m \u001b[38;5;241m/\u001b[39m (cost \u001b[38;5;241m+\u001b[39m \u001b[38;5;241m1\u001b[39m) \u001b[38;5;28;01mfor\u001b[39;00m cost \u001b[38;5;129;01min\u001b[39;00m costs], k\u001b[38;5;241m=\u001b[39m_k)\n",
      "Cell \u001b[1;32mIn[32], line 65\u001b[0m, in \u001b[0;36m<listcomp>\u001b[1;34m(.0)\u001b[0m\n\u001b[0;32m     64\u001b[0m \u001b[38;5;28;01mdef\u001b[39;00m \u001b[38;5;21mselection\u001b[39m(population, costs, _k\u001b[38;5;241m=\u001b[39m\u001b[38;5;241m2\u001b[39m):\n\u001b[1;32m---> 65\u001b[0m     \u001b[38;5;28;01mreturn\u001b[39;00m random\u001b[38;5;241m.\u001b[39mchoices(population, weights\u001b[38;5;241m=\u001b[39m[\u001b[38;5;241m1\u001b[39m \u001b[38;5;241m/\u001b[39m (\u001b[43mcost\u001b[49m\u001b[43m \u001b[49m\u001b[38;5;241;43m+\u001b[39;49m\u001b[43m \u001b[49m\u001b[38;5;241;43m1\u001b[39;49m) \u001b[38;5;28;01mfor\u001b[39;00m cost \u001b[38;5;129;01min\u001b[39;00m costs], k\u001b[38;5;241m=\u001b[39m_k)\n",
      "\u001b[1;31mTypeError\u001b[0m: can only concatenate tuple (not \"int\") to tuple"
     ]
    }
   ],
   "source": [
    "selection(population, objectives)"
   ]
  },
  {
   "cell_type": "code",
   "execution_count": 37,
   "metadata": {},
   "outputs": [
    {
     "ename": "TypeError",
     "evalue": "can only concatenate tuple (not \"int\") to tuple",
     "output_type": "error",
     "traceback": [
      "\u001b[1;31m---------------------------------------------------------------------------\u001b[0m",
      "\u001b[1;31mTypeError\u001b[0m                                 Traceback (most recent call last)",
      "Cell \u001b[1;32mIn[37], line 1\u001b[0m\n\u001b[1;32m----> 1\u001b[0m \u001b[38;5;28mlen\u001b[39m(\u001b[43mselection\u001b[49m\u001b[43m(\u001b[49m\u001b[43mpopulation\u001b[49m\u001b[43m,\u001b[49m\u001b[43m \u001b[49m\u001b[43mobjectives\u001b[49m\u001b[43m)\u001b[49m)\n",
      "Cell \u001b[1;32mIn[32], line 65\u001b[0m, in \u001b[0;36mselection\u001b[1;34m(population, costs, _k)\u001b[0m\n\u001b[0;32m     64\u001b[0m \u001b[38;5;28;01mdef\u001b[39;00m \u001b[38;5;21mselection\u001b[39m(population, costs, _k\u001b[38;5;241m=\u001b[39m\u001b[38;5;241m2\u001b[39m):\n\u001b[1;32m---> 65\u001b[0m     \u001b[38;5;28;01mreturn\u001b[39;00m random\u001b[38;5;241m.\u001b[39mchoices(population, weights\u001b[38;5;241m=\u001b[39m[\u001b[38;5;241m1\u001b[39m \u001b[38;5;241m/\u001b[39m (cost \u001b[38;5;241m+\u001b[39m \u001b[38;5;241m1\u001b[39m) \u001b[38;5;28;01mfor\u001b[39;00m cost \u001b[38;5;129;01min\u001b[39;00m costs], k\u001b[38;5;241m=\u001b[39m_k)\n",
      "Cell \u001b[1;32mIn[32], line 65\u001b[0m, in \u001b[0;36m<listcomp>\u001b[1;34m(.0)\u001b[0m\n\u001b[0;32m     64\u001b[0m \u001b[38;5;28;01mdef\u001b[39;00m \u001b[38;5;21mselection\u001b[39m(population, costs, _k\u001b[38;5;241m=\u001b[39m\u001b[38;5;241m2\u001b[39m):\n\u001b[1;32m---> 65\u001b[0m     \u001b[38;5;28;01mreturn\u001b[39;00m random\u001b[38;5;241m.\u001b[39mchoices(population, weights\u001b[38;5;241m=\u001b[39m[\u001b[38;5;241m1\u001b[39m \u001b[38;5;241m/\u001b[39m (\u001b[43mcost\u001b[49m\u001b[43m \u001b[49m\u001b[38;5;241;43m+\u001b[39;49m\u001b[43m \u001b[49m\u001b[38;5;241;43m1\u001b[39;49m) \u001b[38;5;28;01mfor\u001b[39;00m cost \u001b[38;5;129;01min\u001b[39;00m costs], k\u001b[38;5;241m=\u001b[39m_k)\n",
      "\u001b[1;31mTypeError\u001b[0m: can only concatenate tuple (not \"int\") to tuple"
     ]
    }
   ],
   "source": [
    "len(selection(population, objectives))"
   ]
  },
  {
   "cell_type": "code",
   "execution_count": 44,
   "metadata": {},
   "outputs": [],
   "source": [
    "def nsga2(word_pairs, human_scores):\n",
    "    population = init_population()\n",
    "    \n",
    "    for gen in range(GEN_MAX):\n",
    "        objectives = [calculate_costs(ind, word_pairs, human_scores) for ind in population]\n",
    "        new_population = []\n",
    "        new_population.extend(population)\n",
    "\n",
    "        for i in range(POP_SIZE//2):\n",
    "            parent1, parent2 = selection(population, objectives)\n",
    "            if random.random() < CROSS_RATE:\n",
    "                child1, child2 = crossover(parent1, parent2)\n",
    "                child1 = mutate(child1)\n",
    "                child2 = mutate(child2)\n",
    "                new_population.extend([child1, child2])\n",
    "            else:\n",
    "                new_population.extend([parent1, parent2])        \n",
    "\n",
    "        objectives = [calculate_costs(ind, word_pairs, human_scores) for ind in new_population]\n",
    "        ranks, fronts = fast_non_dominated_sort(new_population, objectives)\n",
    "        print(len(fronts[0]))\n",
    "        population = selection_nsga_ii(population, objectives)\n",
    "        \n",
    "        if gen % 10 == 0:\n",
    "            best_objectives = min(objectives, key=lambda obj: obj[0])\n",
    "            print(f\"Generation {gen}/{GEN_MAX}: Best Bias {best_objectives[0]}, Best Spearman {best_objectives[1]}\")\n",
    "    \n",
    "    # Obter a frente de Pareto final\n",
    "    final_objectives = [calculate_costs(ind, word_pairs, human_scores) for ind in population]\n",
    "    ranks, fronts = fast_non_dominated_sort(population, final_objectives)\n",
    "    pareto_front = [population[i] for i in fronts[0]]\n",
    "    \n",
    "    return pareto_front, [calculate_costs(population[i], word_pairs, human_scores) for i in fronts[0]]\n",
    "\n"
   ]
  },
  {
   "cell_type": "code",
   "execution_count": 45,
   "metadata": {},
   "outputs": [
    {
     "name": "stdout",
     "output_type": "stream",
     "text": [
      "10\n",
      "Generation 0/3: Best Bias 1.9887493399437517, Best Spearman 0.45650751707287673\n",
      "10\n",
      "7\n"
     ]
    }
   ],
   "source": [
    "pareto_solutions = nsga2(word_pairs, human_scores)"
   ]
  },
  {
   "cell_type": "code",
   "execution_count": 46,
   "metadata": {},
   "outputs": [
    {
     "data": {
      "text/plain": [
       "([array([1., 1., 1., 1., 1., 1., 1., 1., 1., 1., 1., 1., 1., 1., 1., 1., 1.,\n",
       "         1., 1., 1., 1., 1., 1., 1., 1., 1., 1., 1., 1., 1., 1., 1., 1., 1.,\n",
       "         1., 1., 1., 1., 1., 1., 1., 1., 1., 1., 1., 1., 1., 1., 1., 1.]),\n",
       "  array([ 2.18529027,  1.09601834,  2.83097224,  2.88154863,  2.61286285,\n",
       "          0.89544458,  2.71568744, -0.19843181,  0.58437036,  2.34050117,\n",
       "         -0.35754094, -0.06492122,  1.14852577,  0.50673585,  0.13571062,\n",
       "          1.42786148,  1.73901011,  2.46039317,  1.57703055,  1.32540116,\n",
       "          2.36899926, -0.56346959,  1.05265828,  0.7682263 ,  0.51143468,\n",
       "          1.87995678,  2.02514139, -0.42163414,  0.57064072, -0.77646464,\n",
       "         -0.84354246,  1.52487547,  2.65424105,  1.95168548,  0.35645736,\n",
       "          0.82116585,  0.9905573 ,  1.81640531,  2.65556665,  1.18950853,\n",
       "          1.22982868,  2.47176513,  2.98150582,  2.8618161 ,  0.32958091,\n",
       "          1.87194878, -0.03707514,  0.34181332,  0.68709645, -0.13145034]),\n",
       "  array([ 2.98635448, -0.21913474,  2.93133217,  1.79139204,  1.48486711,\n",
       "          2.18154303,  2.37921681, -0.26014643,  1.50496535,  1.34661903,\n",
       "          1.74587098, -0.90109054, -0.82017673,  0.82296605,  0.50186608,\n",
       "          0.54523898, -0.02293474,  2.92159661, -0.78382526,  2.95038155,\n",
       "          0.61017167,  2.67966632,  2.84259068,  1.9199931 ,  0.28407142,\n",
       "          0.58786011,  0.97246558, -0.78474438,  2.92732047,  1.02904144,\n",
       "          1.52054859,  0.07001932,  0.88203876,  2.95666535,  1.84851678,\n",
       "         -0.97563307,  1.84292712, -0.84683168,  1.98061337, -0.34419489,\n",
       "          1.85347411, -0.91376114,  2.40101861, -0.96179554,  2.12165278,\n",
       "          2.72688124,  1.40930242,  2.84519083,  1.38786837,  1.03708625]),\n",
       "  array([ 1.5139503 , -0.42350793,  1.43919984,  0.90559727,  2.95310785,\n",
       "          2.68890398,  0.89424312,  1.46810548, -0.38284756,  1.52492221,\n",
       "          1.20755081, -0.99715785, -0.36491673,  2.49788649,  2.24810398,\n",
       "         -0.91663212,  2.36969879,  0.4359318 ,  2.27689403,  1.20492998,\n",
       "          2.71882801,  1.38794728,  2.32671426,  2.94868594,  2.03589494,\n",
       "         -0.35704863,  2.6710108 , -0.79085298, -0.41639073,  2.02882517,\n",
       "          1.14283695,  2.07833352,  1.10188669,  0.49880106,  1.71566424,\n",
       "          1.66362194,  2.5400865 ,  2.77208889, -0.78669857,  1.85103736,\n",
       "         -0.22623226, -0.5632512 ,  0.33601966,  1.5230114 ,  2.3218987 ,\n",
       "          2.85909067,  1.55008482,  2.83509579,  1.65148464,  1.28836696])],\n",
       " [(2.7929737663362175, 0.3560219442760536),\n",
       "  (2.1058280805591494, 0.3789896528248349),\n",
       "  (2.0585993375862017, 0.39679006187384647),\n",
       "  (3.2946023454423994, 0.349954320257457)])"
      ]
     },
     "execution_count": 46,
     "metadata": {},
     "output_type": "execute_result"
    }
   ],
   "source": [
    "pareto_solutions"
   ]
  }
 ],
 "metadata": {
  "kernelspec": {
   "display_name": "gender_bias",
   "language": "python",
   "name": "python3"
  },
  "language_info": {
   "codemirror_mode": {
    "name": "ipython",
    "version": 3
   },
   "file_extension": ".py",
   "mimetype": "text/x-python",
   "name": "python",
   "nbconvert_exporter": "python",
   "pygments_lexer": "ipython3",
   "version": "3.10.0"
  }
 },
 "nbformat": 4,
 "nbformat_minor": 2
}
