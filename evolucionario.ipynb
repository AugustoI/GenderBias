{
 "cells": [
  {
   "cell_type": "code",
   "execution_count": 1,
   "metadata": {},
   "outputs": [],
   "source": [
    "import gensim.downloader\n",
    "import copy\n",
    "import numpy as np\n",
    "import random\n",
    "from scipy.stats import spearmanr"
   ]
  },
  {
   "cell_type": "code",
   "execution_count": 2,
   "metadata": {},
   "outputs": [],
   "source": [
    "POP_SIZE = 50\n",
    "GEN_MAX = 20\n",
    "MUT_RATE = 0.1\n",
    "CROSS_RATE = 0.8"
   ]
  },
  {
   "cell_type": "code",
   "execution_count": 3,
   "metadata": {},
   "outputs": [],
   "source": [
    "#weat 6\n",
    "_glove_model = gensim.downloader.load('glove-wiki-gigaword-50')\n",
    "_glove_model_changed = gensim.downloader.load('glove-wiki-gigaword-50')\n",
    "\n",
    "#careers = ['technician', 'accountant', 'supervisor', 'engineer', 'worker', 'educator', 'clerk', 'counselor', 'inspector', 'mechanic', 'manager', 'therapist', 'administrator', 'salesperson', 'receptionist', 'librarian', 'advisor', 'pharmacist', 'janitor', 'psychologist', 'physician', 'carpenter', 'nurse', 'investigator', 'bartender', 'specialist', 'electrician', 'officer', 'pathologist', 'teacher', 'lawyer', 'planner', 'practitioner', 'plumber', 'instructor', 'surgeon', 'veterinarian', 'paramedic', 'examiner', 'chemist', 'machinist', 'appraiser', 'nutritionist', 'architect', 'hairdresser', 'baker', 'programmer', 'paralegal', 'hygienist', 'scientist']\n",
    "female_attributes = ['female', 'woman', 'girl', 'sister', 'she', 'her', 'hers', 'daughter']\n",
    "male_attributes = ['male', 'man', 'boy', 'brother', 'he', 'him', 'his', 'son']\n",
    "\n",
    "careers = ['math', 'algebra', 'geometry', 'calculus', 'equations', 'computation', 'numbers', 'addition', 'poetry', 'art', 'dance', 'literature', 'novel', 'symphony', 'drama', 'sculpture']\n"
   ]
  },
  {
   "cell_type": "code",
   "execution_count": 4,
   "metadata": {},
   "outputs": [],
   "source": [
    "def noise_vec(_size=50):\n",
    "    return np.random.uniform(-2, 2, size=_size)\n",
    "\n",
    "def init_population():\n",
    "    return [np.ones(50) + noise_vec() for _ in range(POP_SIZE)]\n",
    "\n",
    "def selection(population, costs, _k=2):\n",
    "    return random.choices(population, weights=[1 / (cost + 1) for cost in costs], k=_k)\n",
    "\n",
    "def crossover(parent1, parent2):\n",
    "    crossover_point = random.randint(0, len(parent1) - 1)\n",
    "    child1 = np.concatenate((parent1[:crossover_point], parent2[crossover_point:]))\n",
    "    child2 = np.concatenate((parent2[:crossover_point], parent1[crossover_point:]))\n",
    "    return child1, child2\n",
    "\n",
    "def mutate(child):\n",
    "    if random.random() < MUT_RATE:\n",
    "        child += noise_vec()\n",
    "    return child"
   ]
  },
  {
   "cell_type": "code",
   "execution_count": 5,
   "metadata": {},
   "outputs": [],
   "source": [
    "#melhorar desempenho\n",
    "def evaluate_cost(s, glove_model):\n",
    "    differences = []\n",
    "    glove_model_modified = copy.deepcopy(glove_model)\n",
    "    for i in range(len(glove_model_modified.vectors)):\n",
    "        glove_model_modified.vectors[i] = np.multiply(glove_model_modified.vectors[i],s)\n",
    "\n",
    "    for career in careers:\n",
    "        female_similarity = sum([glove_model_modified.similarity(career, attr) for attr in female_attributes]) / len(female_attributes)\n",
    "        male_similarity = sum([glove_model_modified.similarity(career, attr) for attr in male_attributes]) / len(male_attributes)\n",
    "        difference = abs(male_similarity - female_similarity)\n",
    "        differences.append(difference)\n",
    "\n",
    "    return glove_model_modified, sum(differences)"
   ]
  },
  {
   "cell_type": "code",
   "execution_count": 6,
   "metadata": {},
   "outputs": [],
   "source": [
    "def load_dataset(filepath):\n",
    "    word_pairs = []\n",
    "    human_scores = []\n",
    "    with open(filepath, 'r') as file:\n",
    "        for line in file:\n",
    "            parts = line.strip().split()\n",
    "            if len(parts) == 3:\n",
    "                word1, word2, score = parts\n",
    "                score = float(score)\n",
    "                word_pairs.append((word1.split('-')[0], word2.split('-')[0]))\n",
    "                human_scores.append(score)\n",
    "    return word_pairs, human_scores\n",
    "\n",
    "def wordembedding_similarity(word_pairs, model):\n",
    "    embedding_similarities = []\n",
    "    for word1, word2 in word_pairs:\n",
    "        if word1 in model and word2 in model:\n",
    "            similarity = model.similarity(word1, word2)\n",
    "        else:\n",
    "            similarity = 0.0\n",
    "        embedding_similarities.append(similarity)\n",
    "    return embedding_similarities\n",
    "\n",
    "def semantic_correction(human_judgements, embedding_similarities):\n",
    "    spearman_corr = spearmanr(human_judgements, embedding_similarities)\n",
    "    return spearman_corr\n"
   ]
  },
  {
   "cell_type": "code",
   "execution_count": 7,
   "metadata": {},
   "outputs": [],
   "source": [
    "def combined_cost(s, glove_model, word_pairs, human_scores, alpha=0.5):\n",
    "    glove_model_modified, cost_diff = evaluate_cost(s, glove_model)\n",
    "    \n",
    "    embedding_similarities = wordembedding_similarity(word_pairs, glove_model_modified)\n",
    "    spearman_corr, _ = semantic_correction(human_scores, embedding_similarities)\n",
    "    \n",
    "    cost_spearman = 1 - spearman_corr\n",
    "    \n",
    "    combined_cost = alpha * cost_diff + (1 - alpha) * cost_spearman\n",
    "    \n",
    "    return combined_cost, glove_model_modified\n"
   ]
  },
  {
   "cell_type": "code",
   "execution_count": 8,
   "metadata": {},
   "outputs": [],
   "source": [
    "def evolutionary_algorithm(glove_model, word_pairs, human_scores, alpha=0.5):\n",
    "    population = init_population()\n",
    "    best_individual = None\n",
    "    best_cost = float('inf')\n",
    "    \n",
    "    for gen in range(GEN_MAX):\n",
    "        costs = [combined_cost(individual, glove_model, word_pairs, human_scores, alpha)[0] for individual in population]\n",
    "        best_idx = np.argmin(costs)\n",
    "        current_best_cost = costs[best_idx]\n",
    "        current_best_individual = population[best_idx]\n",
    "        \n",
    "        if current_best_cost < best_cost:\n",
    "            best_cost = current_best_cost\n",
    "            best_individual = current_best_individual\n",
    "        \n",
    "        if best_cost < 0.2:\n",
    "            break\n",
    "        \n",
    "        new_population = [best_individual]\n",
    "        print(f\"Generation {gen}/{GEN_MAX}: Best Cost {best_cost}\")\n",
    "        \n",
    "        while len(new_population) < POP_SIZE:\n",
    "            parent1, parent2 = selection(population, costs)\n",
    "            if random.random() < CROSS_RATE:\n",
    "                child1, child2 = crossover(parent1, parent2)\n",
    "                child1 = mutate(child1)\n",
    "                child2 = mutate(child2)\n",
    "                new_population.extend([child1, child2])\n",
    "            else:\n",
    "                new_population.extend([parent1, parent2])\n",
    "        \n",
    "        population = new_population[:POP_SIZE]\n",
    "    \n",
    "    return best_individual\n"
   ]
  },
  {
   "cell_type": "code",
   "execution_count": 9,
   "metadata": {},
   "outputs": [
    {
     "name": "stdout",
     "output_type": "stream",
     "text": [
      "Generation 0/20: Best Cost 0.34711314200226595\n",
      "Generation 1/20: Best Cost 0.34711314200226595\n",
      "Generation 2/20: Best Cost 0.34711314200226595\n",
      "Generation 3/20: Best Cost 0.34711314200226595\n",
      "Generation 4/20: Best Cost 0.34711314200226595\n",
      "Generation 5/20: Best Cost 0.3301178997171804\n",
      "Generation 6/20: Best Cost 0.3301178997171804\n",
      "Generation 7/20: Best Cost 0.3249410016332582\n",
      "Generation 8/20: Best Cost 0.3249410016332582\n",
      "Generation 9/20: Best Cost 0.3249410016332582\n",
      "Generation 10/20: Best Cost 0.3249410016332582\n",
      "Generation 11/20: Best Cost 0.3249410016332582\n",
      "Generation 12/20: Best Cost 0.3249410016332582\n",
      "Generation 13/20: Best Cost 0.3249410016332582\n",
      "Generation 14/20: Best Cost 0.3249410016332582\n",
      "Generation 15/20: Best Cost 0.3249410016332582\n",
      "Generation 16/20: Best Cost 0.3249410016332582\n",
      "Generation 17/20: Best Cost 0.3249410016332582\n",
      "Generation 18/20: Best Cost 0.3249410016332582\n",
      "Generation 19/20: Best Cost 0.3249410016332582\n",
      "Evaluation with vector of ones:\n",
      "(<gensim.models.keyedvectors.KeyedVectors object at 0x000002634D12EC20>, 0.6343846688978374)\n",
      "Evaluation with best evolved vector:\n",
      "(<gensim.models.keyedvectors.KeyedVectors object at 0x000002634D12FA30>, 0.281436697114259)\n",
      "Initial semantic correlation: 0.6439780557239464\n",
      "Evolved semantic correlation: 0.6315546938477427\n"
     ]
    }
   ],
   "source": [
    "filepath = 'MEN_dataset_lemma_form.dev'\n",
    "word_pairs, human_scores = load_dataset(filepath)\n",
    "\n",
    "best_vector = evolutionary_algorithm(_glove_model, word_pairs, human_scores, alpha=0.5)\n",
    "\n",
    "print(\"Evaluation with vector of ones:\")\n",
    "print(evaluate_cost(np.ones(50), _glove_model_changed))\n",
    "\n",
    "print(\"Evaluation with best evolved vector:\")\n",
    "print(evaluate_cost(best_vector, _glove_model_changed))\n",
    "\n",
    "embedding_similarities = wordembedding_similarity(word_pairs, _glove_model_changed)\n",
    "correction = semantic_correction(human_scores, embedding_similarities)\n",
    "print(f'Initial semantic correlation: {correction[0]}')\n",
    "\n",
    "glove_test, _ = evaluate_cost(best_vector, _glove_model_changed)\n",
    "embedding_similarities = wordembedding_similarity(word_pairs, glove_test)\n",
    "correction = semantic_correction(human_scores, embedding_similarities)\n",
    "print(f'Evolved semantic correlation: {correction[0]}')\n"
   ]
  }
 ],
 "metadata": {
  "kernelspec": {
   "display_name": "gender_bias",
   "language": "python",
   "name": "python3"
  },
  "language_info": {
   "codemirror_mode": {
    "name": "ipython",
    "version": 3
   },
   "file_extension": ".py",
   "mimetype": "text/x-python",
   "name": "python",
   "nbconvert_exporter": "python",
   "pygments_lexer": "ipython3",
   "version": "3.10.0"
  }
 },
 "nbformat": 4,
 "nbformat_minor": 2
}
