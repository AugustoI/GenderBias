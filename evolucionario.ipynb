{
 "cells": [
  {
   "cell_type": "code",
   "execution_count": 1,
   "metadata": {},
   "outputs": [],
   "source": [
    "import gensim.downloader\n",
    "from gensim.models import Word2Vec\n",
    "import copy\n",
    "import numpy as np\n",
    "import random\n",
    "from scipy.stats import spearmanr"
   ]
  },
  {
   "cell_type": "code",
   "execution_count": 2,
   "metadata": {},
   "outputs": [],
   "source": [
    "#weat 6\n",
    "_glove_model = gensim.downloader.load('glove-wiki-gigaword-50')\n",
    "_glove_model_changed = gensim.downloader.load('glove-wiki-gigaword-50')\n",
    "\n",
    "#careers = ['technician', 'accountant', 'supervisor', 'engineer', 'worker', 'educator', 'clerk', 'counselor', 'inspector', 'mechanic', 'manager', 'therapist', 'administrator', 'salesperson', 'receptionist', 'librarian', 'advisor', 'pharmacist', 'janitor', 'psychologist', 'physician', 'carpenter', 'nurse', 'investigator', 'bartender', 'specialist', 'electrician', 'officer', 'pathologist', 'teacher', 'lawyer', 'planner', 'practitioner', 'plumber', 'instructor', 'surgeon', 'veterinarian', 'paramedic', 'examiner', 'chemist', 'machinist', 'appraiser', 'nutritionist', 'architect', 'hairdresser', 'baker', 'programmer', 'paralegal', 'hygienist', 'scientist']\n",
    "female_attributes = ['female', 'woman', 'girl', 'sister', 'she', 'her', 'hers', 'daughter']\n",
    "male_attributes = ['male', 'man', 'boy', 'brother', 'he', 'him', 'his', 'son']\n",
    "\n",
    "careers = ['math', 'algebra', 'geometry', 'calculus', 'equations', 'computation', 'numbers', 'addition', 'poetry', 'art', 'dance', 'literature', 'novel', 'symphony', 'drama', 'sculpture']\n",
    "\n"
   ]
  },
  {
   "cell_type": "code",
   "execution_count": 3,
   "metadata": {},
   "outputs": [],
   "source": [
    "def load_dataset(filepath):\n",
    "    word_pairs = []\n",
    "    human_scores = []\n",
    "    with open(filepath, 'r') as file:\n",
    "        for line in file:\n",
    "            parts = line.strip().split()\n",
    "            if len(parts) == 3:\n",
    "                word1, word2, score = parts\n",
    "                score = float(score)\n",
    "                word_pairs.append((word1.split('-')[0], word2.split('-')[0]))\n",
    "                human_scores.append(score)\n",
    "    return word_pairs, human_scores"
   ]
  },
  {
   "cell_type": "code",
   "execution_count": 4,
   "metadata": {},
   "outputs": [],
   "source": [
    "filepath = 'MEN_dataset_lemma_form.dev'\n",
    "word_pairs, human_scores = load_dataset(filepath)\n",
    "\n",
    "men_words = []\n",
    "for word1, word2 in word_pairs:\n",
    "    men_words.append(word1)\n",
    "    men_words.append(word2)"
   ]
  },
  {
   "cell_type": "code",
   "execution_count": 5,
   "metadata": {},
   "outputs": [],
   "source": [
    "all_words = list(set(female_attributes + male_attributes + careers + men_words))"
   ]
  },
  {
   "cell_type": "code",
   "execution_count": 6,
   "metadata": {},
   "outputs": [],
   "source": [
    "word_vectors = {word: _glove_model[word] for word in all_words if word in _glove_model}\n",
    "vectors = np.array([word_vectors[word] for word in word_vectors.keys()])\n",
    "words = list(word_vectors.keys())\n",
    "reduced_glove = Word2Vec(vector_size=50, min_count=1)\n",
    "reduced_glove.build_vocab([words])\n",
    "reduced_glove.wv.vectors = vectors\n",
    "reduced_glove.wv.index_to_key = words\n",
    "reduced_glove.wv.key_to_index = {word: idx for idx, word in enumerate(words)}\n"
   ]
  },
  {
   "cell_type": "code",
   "execution_count": 7,
   "metadata": {},
   "outputs": [],
   "source": [
    "POP_SIZE = 50\n",
    "GEN_MAX = 100\n",
    "MUT_RATE = 0.2\n",
    "CROSS_RATE = 0.6\n",
    "\n",
    "def noise_vec(_size=50):\n",
    "    return np.random.uniform(-2, 2, size=_size)\n",
    "\n",
    "#garantir que exista um vetor unitário\n",
    "def init_population():\n",
    "    population = np.ones((POP_SIZE - 1, 50)) + np.array([noise_vec() for _ in range(POP_SIZE - 1)])\n",
    "    population = np.vstack([population, np.ones(50)])\n",
    "    np.random.shuffle(population)\n",
    "    return population\n",
    "\n",
    "\n",
    "def selection(population, costs, _k=2):\n",
    "    return random.choices(population, weights=[1 / (cost + 1) for cost in costs], k=_k)\n",
    "\n",
    "def crossover(parent1, parent2):\n",
    "    point1, point2 = sorted(random.sample(range(len(parent1)), 2))\n",
    "    child1 = np.concatenate((parent1[:point1], parent2[point1:point2], parent1[point2:]))\n",
    "    child2 = np.concatenate((parent2[:point1], parent1[point1:point2], parent2[point2:]))\n",
    "    return child1, child2\n",
    "\n",
    "def mutate(child):\n",
    "    if random.random() < MUT_RATE:\n",
    "        child += noise_vec()\n",
    "    return child\n",
    "\n",
    "def wordembedding_similarity(word_pairs, model):\n",
    "    embedding_similarities = []\n",
    "    for word1, word2 in word_pairs:\n",
    "        if word1 in model and word2 in model:\n",
    "            similarity = model.similarity(word1, word2)\n",
    "        else:\n",
    "            similarity = 0.0\n",
    "        embedding_similarities.append(similarity)\n",
    "    return embedding_similarities\n",
    "\n",
    "def combined_cost(s, word_pairs, human_scores, alpha=0.5):\n",
    "    glove_model_modified = copy.copy(reduced_glove.wv)\n",
    "    \n",
    "    for _word in all_words:\n",
    "        glove_model_modified[_word] = np.multiply(glove_model_modified[_word], s)\n",
    "        \n",
    "    differences = [\n",
    "        abs(\n",
    "            sum(glove_model_modified.similarity(career, attr) for attr in female_attributes) / len(female_attributes) - \n",
    "            sum(glove_model_modified.similarity(career, attr) for attr in male_attributes) / len(male_attributes)\n",
    "        )\n",
    "        for career in careers\n",
    "    ]\n",
    "    \n",
    "    bias = sum(differences)\n",
    "\n",
    "    embedding_similarities = wordembedding_similarity(word_pairs, glove_model_modified)\n",
    "    spearman_corr, _ = spearmanr(human_scores, embedding_similarities)\n",
    "    cost_spearman = 1 - spearman_corr\n",
    "    cost = alpha * bias + (1 - alpha) * cost_spearman\n",
    "    return [cost,bias,cost_spearman]\n",
    "\n",
    "def evolutionary_algorithm(word_pairs, human_scores, alpha=0.5):\n",
    "    population = init_population()\n",
    "    best_individual = None\n",
    "    best_cost = float('inf')\n",
    "    \n",
    "    for gen in range(GEN_MAX):\n",
    "        costs = [combined_cost(individual, word_pairs, human_scores, alpha)[0] for individual in population]\n",
    "        best_idx = np.argmin(costs)\n",
    "        current_best_cost = costs[best_idx]\n",
    "        current_best_individual = population[best_idx]\n",
    "        \n",
    "        if current_best_cost < best_cost:\n",
    "            best_cost = current_best_cost\n",
    "            best_individual = current_best_individual\n",
    "        \n",
    "        new_population = [best_individual]\n",
    "        if gen % 10 == 0:\n",
    "            print(f\"Generation {gen}/{GEN_MAX}: Best Cost {best_cost}\")\n",
    "        \n",
    "        while len(new_population) < POP_SIZE:\n",
    "            parent1, parent2 = selection(population, costs)\n",
    "            if random.random() < CROSS_RATE:\n",
    "                child1, child2 = crossover(parent1, parent2)\n",
    "                child1 = mutate(child1)\n",
    "                child2 = mutate(child2)\n",
    "                new_population.extend([child1, child2])\n",
    "            else:\n",
    "                new_population.extend([parent1, parent2])\n",
    "        \n",
    "        population = new_population[:POP_SIZE]\n",
    "    \n",
    "    print(f\"Generation {100}/{GEN_MAX}: Best Cost {best_cost}\")\n",
    "    return best_individual\n"
   ]
  },
  {
   "cell_type": "code",
   "execution_count": null,
   "metadata": {},
   "outputs": [],
   "source": [
    "alphas = [0.1, 0.2, 0.3, 0.4, 0.5, 0.6, 0.7, 0.8, 0.9]\n",
    "costs = []\n",
    "\n",
    "for _alpha in alphas:\n",
    "    best_vector = evolutionary_algorithm(word_pairs, human_scores, alpha=_alpha)\n",
    "    costs.append(combined_cost(best_vector, word_pairs, human_scores, alpha=_alpha))"
   ]
  },
  {
   "cell_type": "code",
   "execution_count": null,
   "metadata": {},
   "outputs": [],
   "source": [
    "costs"
   ]
  },
  {
   "cell_type": "code",
   "execution_count": 6,
   "metadata": {},
   "outputs": [],
   "source": [
    "costs = [[0.3438444309137326, 0.45816142205148935, 0.3311425430095374],\n",
    " [0.33837864156722103, 0.33593362057581544, 0.3389898968150724],\n",
    " [0.3286199676943295, 0.2633045301772654, 0.3566122980587856],\n",
    " [0.31660717209257594, 0.16314214072190225, 0.41891719300635843],\n",
    " [0.2922882942947726, 0.17715272406348959, 0.4074238645260556],\n",
    " [0.2550312755491223, 0.12109482055529952, 0.4559359580398564],\n",
    " [0.2514114465085271, 0.11429664911702275, 0.5713459737553704],\n",
    " #[0.22797789289000014, 0.17370743956416845, 0.445059706193327],\n",
    " [0.12716391160293622, 0.06183868646621704, 0.7150909378334089]]"
   ]
  },
  {
   "cell_type": "code",
   "execution_count": null,
   "metadata": {},
   "outputs": [],
   "source": [
    "import numpy as np\n",
    "import matplotlib.pyplot as plt\n",
    "\n",
    "bias = [cost[1] for cost in costs]\n",
    "inverse_correlation = [cost[2] for cost in costs]\n",
    "\n",
    "plt.figure(figsize=(10, 6))\n",
    "plt.scatter(bias, inverse_correlation, color='blue', s=50, label='Soluções')\n",
    "\n",
    "for i in range(len(bias)):\n",
    "    plt.text(bias[i], inverse_correlation[i], f'{(i+1)/10}', fontsize=10, ha='right', va='bottom')\n",
    "\n",
    "plt.title('Fronteira de Pareto: Viés vs. Inverso da Correlação')\n",
    "plt.xlabel('Viés')\n",
    "plt.ylabel('Inverso da Correlação')\n",
    "plt.grid(True)\n",
    "plt.legend()\n",
    "plt.show()\n"
   ]
  }
 ],
 "metadata": {
  "kernelspec": {
   "display_name": "gender_bias",
   "language": "python",
   "name": "python3"
  },
  "language_info": {
   "codemirror_mode": {
    "name": "ipython",
    "version": 3
   },
   "file_extension": ".py",
   "mimetype": "text/x-python",
   "name": "python",
   "nbconvert_exporter": "python",
   "pygments_lexer": "ipython3",
   "version": "3.10.0"
  }
 },
 "nbformat": 4,
 "nbformat_minor": 2
}
