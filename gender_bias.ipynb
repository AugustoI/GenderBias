{
 "cells": [
  {
   "cell_type": "code",
   "execution_count": 2,
   "metadata": {},
   "outputs": [],
   "source": [
    "import gensim.downloader"
   ]
  },
  {
   "cell_type": "code",
   "execution_count": 40,
   "metadata": {},
   "outputs": [
    {
     "data": {
      "text/plain": [
       "'4.3.0'"
      ]
     },
     "execution_count": 40,
     "metadata": {},
     "output_type": "execute_result"
    }
   ],
   "source": [
    "gensim.__version__"
   ]
  },
  {
   "cell_type": "code",
   "execution_count": 37,
   "metadata": {},
   "outputs": [],
   "source": [
    "glove_model = gensim.downloader.load('glove-wiki-gigaword-50')\n",
    "glove_model_changed = gensim.downloader.load('glove-wiki-gigaword-50')"
   ]
  },
  {
   "cell_type": "code",
   "execution_count": 13,
   "metadata": {},
   "outputs": [
    {
     "name": "stdout",
     "output_type": "stream",
     "text": [
      "400000\n",
      "[-0.34471   0.69563  -0.78086  -0.58482   1.2263    1.2544   -0.76466\n",
      "  0.40575   0.18862   0.098834  0.32557  -0.31816   0.23869   0.33554\n",
      "  1.0592   -0.25266  -1.0308    0.70027   0.030457  0.53866  -0.30279\n",
      "  1.7515    0.3128    1.2103    0.41335  -1.9421   -0.93756   0.32453\n",
      "  0.52249  -0.86708   2.1258   -0.20377  -0.19061   0.37736   0.66205\n",
      "  0.50211  -0.12544  -0.83069   0.21155  -1.3091   -0.44973  -0.11648\n",
      "  0.033598 -0.68382   0.99419  -0.88262   0.56601  -1.327     0.37319\n",
      "  0.022389]\n"
     ]
    }
   ],
   "source": [
    "print(len(glove_model.vectors))\n",
    "print()"
   ]
  },
  {
   "cell_type": "code",
   "execution_count": 39,
   "metadata": {},
   "outputs": [
    {
     "data": {
      "text/plain": [
       "(400000, 50)"
      ]
     },
     "execution_count": 39,
     "metadata": {},
     "output_type": "execute_result"
    }
   ],
   "source": [
    "glove_model.vectors.shape"
   ]
  },
  {
   "cell_type": "code",
   "execution_count": 16,
   "metadata": {},
   "outputs": [
    {
     "name": "stdout",
     "output_type": "stream",
     "text": [
      "[-0.34471   0.69563  -0.78086  -0.58482   1.2263    1.2544   -0.76466\n",
      "  0.40575   0.18862   0.098834  0.32557  -0.31816   0.23869   0.33554\n",
      "  1.0592   -0.25266  -1.0308    0.70027   0.030457  0.53866  -0.30279\n",
      "  1.7515    0.3128    1.2103    0.41335  -1.9421   -0.93756   0.32453\n",
      "  0.52249  -0.86708   2.1258   -0.20377  -0.19061   0.37736   0.66205\n",
      "  0.50211  -0.12544  -0.83069   0.21155  -1.3091   -0.44973  -0.11648\n",
      "  0.033598 -0.68382   0.99419  -0.88262   0.56601  -1.327     0.37319\n",
      "  0.022389]\n",
      "[-0.65826   0.70134  -0.65681  -0.98726   0.48835   0.56114  -0.60911\n",
      " -0.36035  -0.036358 -0.11499   0.2281   -0.459    -0.10042  -0.42613\n",
      "  0.79978   0.017422 -0.34133   0.73644  -0.016533  0.054401 -0.17343\n",
      "  1.6337    0.68253   1.4635   -0.27418  -1.0041   -0.54461  -0.3128\n",
      " -0.22009  -1.1839    2.4682    1.0396   -0.060377 -0.50688   0.86831\n",
      "  0.49171   0.27115  -0.71569  -0.12354  -0.94097  -0.85589  -0.75384\n",
      "  0.50264   0.09436   1.2041   -0.5627    0.31881  -1.302    -0.024697\n",
      " -0.12486 ]\n"
     ]
    }
   ],
   "source": [
    "print(glove_model.get_vector('girl'))\n",
    "print(glove_model.get_vector('girls'))"
   ]
  },
  {
   "cell_type": "code",
   "execution_count": 19,
   "metadata": {},
   "outputs": [],
   "source": [
    "import numpy as np\n",
    "\n",
    "s = np.random.rand(50)"
   ]
  },
  {
   "cell_type": "code",
   "execution_count": 23,
   "metadata": {},
   "outputs": [
    {
     "data": {
      "text/plain": [
       "array([ 4.1800e-01,  2.4968e-01, -4.1242e-01,  1.2170e-01,  3.4527e-01,\n",
       "       -4.4457e-02, -4.9688e-01, -1.7862e-01, -6.6023e-04, -6.5660e-01,\n",
       "        2.7843e-01, -1.4767e-01, -5.5677e-01,  1.4658e-01, -9.5095e-03,\n",
       "        1.1658e-02,  1.0204e-01, -1.2792e-01, -8.4430e-01, -1.2181e-01,\n",
       "       -1.6801e-02, -3.3279e-01, -1.5520e-01, -2.3131e-01, -1.9181e-01,\n",
       "       -1.8823e+00, -7.6746e-01,  9.9051e-02, -4.2125e-01, -1.9526e-01,\n",
       "        4.0071e+00, -1.8594e-01, -5.2287e-01, -3.1681e-01,  5.9213e-04,\n",
       "        7.4449e-03,  1.7778e-01, -1.5897e-01,  1.2041e-02, -5.4223e-02,\n",
       "       -2.9871e-01, -1.5749e-01, -3.4758e-01, -4.5637e-02, -4.4251e-01,\n",
       "        1.8785e-01,  2.7849e-03, -1.8411e-01, -1.1514e-01, -7.8581e-01],\n",
       "      dtype=float32)"
      ]
     },
     "execution_count": 23,
     "metadata": {},
     "output_type": "execute_result"
    }
   ],
   "source": [
    "glove_model.vectors[0]"
   ]
  },
  {
   "cell_type": "code",
   "execution_count": 25,
   "metadata": {},
   "outputs": [
    {
     "data": {
      "text/plain": [
       "array([0.23755632, 0.82961266, 0.37667815, 0.92268191, 0.4516136 ,\n",
       "       0.33648825, 0.21388616, 0.27745964, 0.71582941, 0.55093767,\n",
       "       0.79957723, 0.45297256, 0.49473372, 0.94977172, 0.00319799,\n",
       "       0.09343209, 0.40254385, 0.27389406, 0.29596007, 0.30920792,\n",
       "       0.39894131, 0.04234414, 0.22370032, 0.72624711, 0.92808551,\n",
       "       0.17977619, 0.29963315, 0.24020027, 0.47801525, 0.34303373,\n",
       "       0.81595307, 0.36941122, 0.41980182, 0.62708882, 0.0185122 ,\n",
       "       0.43044859, 0.89570518, 0.01403113, 0.98217653, 0.44945691,\n",
       "       0.09412345, 0.96795459, 0.25991265, 0.1274412 , 0.18755165,\n",
       "       0.9961212 , 0.9556474 , 0.80306682, 0.59536965, 0.47156513])"
      ]
     },
     "execution_count": 25,
     "metadata": {},
     "output_type": "execute_result"
    }
   ],
   "source": [
    "s"
   ]
  },
  {
   "cell_type": "code",
   "execution_count": 26,
   "metadata": {},
   "outputs": [
    {
     "name": "stdout",
     "output_type": "stream",
     "text": [
      "50\n"
     ]
    }
   ],
   "source": [
    "r = np.multiply(glove_model.vectors[0],s)\n",
    "print(len(r))"
   ]
  },
  {
   "cell_type": "code",
   "execution_count": 28,
   "metadata": {},
   "outputs": [
    {
     "data": {
      "text/plain": [
       "400000"
      ]
     },
     "execution_count": 28,
     "metadata": {},
     "output_type": "execute_result"
    }
   ],
   "source": [
    "len(glove_model.vectors)"
   ]
  },
  {
   "cell_type": "code",
   "execution_count": 29,
   "metadata": {},
   "outputs": [],
   "source": [
    "l = []\n",
    "for i in range(len(glove_model.vectors)):\n",
    "    r = np.multiply(glove_model.vectors[i],s)\n",
    "    l.append(r)"
   ]
  },
  {
   "cell_type": "code",
   "execution_count": 31,
   "metadata": {},
   "outputs": [
    {
     "data": {
      "text/plain": [
       "400000"
      ]
     },
     "execution_count": 31,
     "metadata": {},
     "output_type": "execute_result"
    }
   ],
   "source": [
    "len(l)"
   ]
  },
  {
   "cell_type": "code",
   "execution_count": 15,
   "metadata": {},
   "outputs": [
    {
     "data": {
      "text/plain": [
       "array([False, False, False, False, False, False, False, False, False,\n",
       "       False, False, False, False, False, False, False, False, False,\n",
       "       False, False, False, False, False, False, False, False, False,\n",
       "       False, False, False, False, False, False, False, False, False,\n",
       "       False, False, False, False, False, False, False, False, False,\n",
       "       False, False, False, False, False])"
      ]
     },
     "execution_count": 15,
     "metadata": {},
     "output_type": "execute_result"
    }
   ],
   "source": [
    "glove_model.get_vector('girl') == glove_model.get_vector('girls')"
   ]
  },
  {
   "cell_type": "code",
   "execution_count": 4,
   "metadata": {},
   "outputs": [
    {
     "name": "stdout",
     "output_type": "stream",
     "text": [
      "0.8860338\n"
     ]
    }
   ],
   "source": [
    "cosine_distance = glove_model.similarity('man', 'woman')\n",
    "print(cosine_distance)"
   ]
  },
  {
   "cell_type": "code",
   "execution_count": 6,
   "metadata": {},
   "outputs": [],
   "source": [
    "careers = ['technician', 'accountant', 'supervisor', 'engineer', 'worker', 'educator', 'clerk', 'counselor', 'inspector', 'mechanic', 'manager', 'therapist', 'administrator', 'salesperson', 'receptionist', 'librarian', 'advisor', 'pharmacist', 'janitor', 'psychologist', 'physician', 'carpenter', 'nurse', 'investigator', 'bartender', 'specialist', 'electrician', 'officer', 'pathologist', 'teacher', 'lawyer', 'planner', 'practitioner', 'plumber', 'instructor', 'surgeon', 'veterinarian', 'paramedic', 'examiner', 'chemist', 'machinist', 'appraiser', 'nutritionist', 'architect', 'hairdresser', 'baker', 'programmer', 'paralegal', 'hygienist', 'scientist']\n",
    "female_attributes = ['female', 'woman', 'girl', 'sister', 'she', 'her', 'hers', 'daughter']\n",
    "male_attributes = ['male', 'man', 'boy', 'brother', 'he', 'him', 'his', 'son']\n"
   ]
  },
  {
   "cell_type": "code",
   "execution_count": 34,
   "metadata": {},
   "outputs": [
    {
     "name": "stdout",
     "output_type": "stream",
     "text": [
      "[-0.08188803  0.5771035  -0.2941329  -0.5396028   0.55381376  0.42209086\n",
      " -0.16355018  0.11257925  0.13501975  0.05445137  0.26031834 -0.14411774\n",
      "  0.11808799  0.3186864   0.00338731 -0.02360655 -0.4149422   0.19179979\n",
      "  0.00901406  0.16655794 -0.12079544  0.07416576  0.06997346  0.8789768\n",
      "  0.38362414 -0.34914336 -0.28092405  0.07795219  0.2497582  -0.29743767\n",
      "  1.734553   -0.07527492 -0.08001843  0.23663823  0.012256    0.21613254\n",
      " -0.11235726 -0.01165552  0.20777944 -0.58838403 -0.04233014 -0.11274735\n",
      "  0.00873255 -0.08714684  0.18646197 -0.87919647  0.540906   -1.0656697\n",
      "  0.222186    0.01055787]\n"
     ]
    }
   ],
   "source": [
    "print(glove_model['girl'])"
   ]
  },
  {
   "cell_type": "code",
   "execution_count": 35,
   "metadata": {},
   "outputs": [],
   "source": [
    "glove_model['girl'] = glove_model['girl'] * s"
   ]
  },
  {
   "cell_type": "code",
   "execution_count": 36,
   "metadata": {},
   "outputs": [
    {
     "name": "stdout",
     "output_type": "stream",
     "text": [
      "[-1.94530208e-02  4.78772372e-01 -1.10793434e-01 -4.97881770e-01\n",
      "  2.50109822e-01  1.42028615e-01 -3.49811204e-02  3.12361978e-02\n",
      "  9.66511071e-02  2.99993120e-02  2.08144620e-01 -6.52813837e-02\n",
      "  5.84221110e-02  3.02679330e-01  1.08325994e-05 -2.20560934e-03\n",
      " -1.67032436e-01  5.25328219e-02  2.66780076e-03  5.15010320e-02\n",
      " -4.81902882e-02  3.14048538e-03  1.56530850e-02  6.38354361e-01\n",
      "  3.56036007e-01 -6.27676621e-02 -8.41741562e-02  1.87241379e-02\n",
      "  1.19388230e-01 -1.02031149e-01  1.41531384e+00 -2.78074015e-02\n",
      " -3.35918851e-02  1.48393184e-01  2.26885561e-04  9.30339471e-02\n",
      " -1.00638978e-01 -1.63540084e-04  2.04076082e-01 -2.64453262e-01\n",
      " -3.98425851e-03 -1.09134316e-01  2.26969901e-03 -1.11060981e-02\n",
      "  3.49712484e-02 -8.75786245e-01  5.16915441e-01 -8.55803967e-01\n",
      "  1.32282808e-01  4.97872382e-03]\n"
     ]
    }
   ],
   "source": [
    "print(glove_model['girl'])"
   ]
  },
  {
   "cell_type": "code",
   "execution_count": 14,
   "metadata": {},
   "outputs": [
    {
     "name": "stdout",
     "output_type": "stream",
     "text": [
      "0.9876833076123148\n"
     ]
    }
   ],
   "source": [
    "differences = []\n",
    "\n",
    "for career in careers:\n",
    "    female_similarity = sum([glove_model.similarity(career, attr) for attr in female_attributes]) / len(female_attributes)\n",
    "    male_similarity = sum([glove_model.similarity(career, attr) for attr in male_attributes]) / len(male_attributes)\n",
    "    difference = male_similarity - female_similarity \n",
    "    differences.append(difference)\n",
    "\n",
    "print(sum(differences))"
   ]
  }
 ],
 "metadata": {
  "kernelspec": {
   "display_name": "gender_bias",
   "language": "python",
   "name": "python3"
  },
  "language_info": {
   "codemirror_mode": {
    "name": "ipython",
    "version": 3
   },
   "file_extension": ".py",
   "mimetype": "text/x-python",
   "name": "python",
   "nbconvert_exporter": "python",
   "pygments_lexer": "ipython3",
   "version": "3.10.0"
  }
 },
 "nbformat": 4,
 "nbformat_minor": 2
}
